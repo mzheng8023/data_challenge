{
 "cells": [
  {
   "cell_type": "code",
   "execution_count": 2,
   "metadata": {},
   "outputs": [],
   "source": [
    "# Import libraries.\n",
    "import numpy as np\n",
    "import pandas as pd\n",
    "import os\n",
    "import pickle\n",
    "from imblearn.under_sampling import RandomUnderSampler\n",
    "from sklearn.impute import SimpleImputer\n",
    "from sklearn.model_selection import train_test_split, GridSearchCV\n",
    "from sklearn.pipeline import Pipeline\n",
    "from sklearn.compose import ColumnTransformer\n",
    "from sklearn.preprocessing import StandardScaler, OneHotEncoder"
   ]
  },
  {
   "cell_type": "markdown",
   "metadata": {},
   "source": [
    "# Data Preprocessing\n"
   ]
  },
  {
   "cell_type": "code",
   "execution_count": 3,
   "metadata": {},
   "outputs": [],
   "source": [
    "# Load cleaned data.\n",
    "df = pd.read_pickle('data/cleaned_data')\n",
    "# df.head()"
   ]
  },
  {
   "cell_type": "code",
   "execution_count": 4,
   "metadata": {},
   "outputs": [],
   "source": [
    "# create a column to match entered cvv and card cvv. If match then 1, if no match then 0.\n",
    "df['matchingCVV'] = df['cardCVV'] == df['enteredCVV']\n",
    "# define variable for later \n",
    "account_number = df['accountNumber']\n",
    "# For true false columns, replace True with 1 and False with 0.\n",
    "for col in ['cardPresent', 'matchingCVV','expirationDateKeyInMatch', 'isFraud']:\n",
    "    df[col] = df[col].replace({False: 0, True: 1})\n",
    "# df.head()"
   ]
  },
  {
   "cell_type": "code",
   "execution_count": 5,
   "metadata": {},
   "outputs": [],
   "source": [
    "# Drop columns that will not be used for predictive modeling.\n",
    "df.drop(['cardCVV','cardLast4Digits','merchantName','transactionDateTime','dateOfLastAddressChange','accountOpenDate',\n",
    "         'currentExpDate','customerId','accountNumber','enteredCVV'], inplace=True, axis=1)"
   ]
  },
  {
   "cell_type": "code",
   "execution_count": 6,
   "metadata": {},
   "outputs": [
    {
     "data": {
      "text/plain": [
       "creditLimit                    0\n",
       "availableMoney                 0\n",
       "transactionAmount              0\n",
       "acqCountry                  4562\n",
       "merchantCountryCode          724\n",
       "posEntryMode                4054\n",
       "posConditionCode             409\n",
       "merchantCategoryCode           0\n",
       "transactionType              698\n",
       "currentBalance                 0\n",
       "cardPresent                    0\n",
       "expirationDateKeyInMatch       0\n",
       "isFraud                        0\n",
       "matchingCVV                    0\n",
       "dtype: int64"
      ]
     },
     "execution_count": 6,
     "metadata": {},
     "output_type": "execute_result"
    }
   ],
   "source": [
    "# Columns used\n",
    "df.isnull().sum()"
   ]
  },
  {
   "cell_type": "code",
   "execution_count": 7,
   "metadata": {},
   "outputs": [
    {
     "name": "stdout",
     "output_type": "stream",
     "text": [
      "Ratio of fraudulent cases: 0.01579041740264992\n",
      "Ratio of non-fraudulent cases: 0.98420958259735\n"
     ]
    }
   ],
   "source": [
    "# Look at the ratio of our data \n",
    "cnt_fraud = df['isFraud'].value_counts()\n",
    "cnt_fraud\n",
    "ratio_cases = cnt_fraud/len(df.index)\n",
    "print(f'Ratio of fraudulent cases: {ratio_cases[1]}\\nRatio of non-fraudulent cases: {ratio_cases[0]}')"
   ]
  },
  {
   "cell_type": "code",
   "execution_count": 8,
   "metadata": {},
   "outputs": [
    {
     "name": "stdout",
     "output_type": "stream",
     "text": [
      "old sample shape:  (786363, 13)\n",
      "new sample shape:  (24834, 13)\n"
     ]
    }
   ],
   "source": [
    "# Due to the imbalanced dataset, data resampling is needed for better model results.\n",
    "undersample = RandomUnderSampler()\n",
    "y = df['isFraud']\n",
    "df.drop('isFraud', inplace=True, axis=1)\n",
    "x_new, y_new = undersample.fit_resample(df, y)\n",
    "print('old sample shape: ', df.shape)\n",
    "print('new sample shape: ', x_new.shape)\n"
   ]
  },
  {
   "cell_type": "code",
   "execution_count": 9,
   "metadata": {},
   "outputs": [
    {
     "name": "stdout",
     "output_type": "stream",
     "text": [
      "(18625, 45)\n"
     ]
    }
   ],
   "source": [
    "# Split new resampled data to train and test sets.\n",
    "x_train, x_test, y_train, y_test = train_test_split(x_new, y_new)\n",
    "\n",
    "pipeline = ColumnTransformer([\n",
    "    ('cat_pipe', Pipeline([\n",
    "        ('cat_imputer', SimpleImputer(strategy='most_frequent')),\n",
    "        ('one_hot', OneHotEncoder(handle_unknown='ignore'))]),\n",
    "     ['merchantCountryCode','merchantCategoryCode','posConditionCode', 'posEntryMode','transactionType',\n",
    "      'acqCountry']),], remainder='passthrough')\n",
    "\n",
    "other_columns = [x for x in df.columns if x not in ['merchantCountryCode','merchantCategoryCode','posConditionCode',\n",
    "                                                        'posEntryMode','transactionType','acqCountry']]\n",
    "x_train = pipeline.fit_transform(x_train)\n",
    "x_test = pipeline.transform(x_test)\n",
    "print(x_train.shape)\n",
    "\n",
    "# Pickle preprocessed data \n",
    "data = {'x_train': x_train, 'x_test': x_test, 'y_train': y_train, 'y_test': y_test}\n",
    "with open('data/preprocessed_data', 'wb') as file:\n",
    "    pickle.dump(data, file, protocol=4)"
   ]
  },
  {
   "cell_type": "code",
   "execution_count": null,
   "metadata": {},
   "outputs": [],
   "source": []
  }
 ],
 "metadata": {
  "kernelspec": {
   "display_name": "Python 3",
   "language": "python",
   "name": "python3"
  },
  "language_info": {
   "codemirror_mode": {
    "name": "ipython",
    "version": 3
   },
   "file_extension": ".py",
   "mimetype": "text/x-python",
   "name": "python",
   "nbconvert_exporter": "python",
   "pygments_lexer": "ipython3",
   "version": "3.8.3"
  }
 },
 "nbformat": 4,
 "nbformat_minor": 4
}
